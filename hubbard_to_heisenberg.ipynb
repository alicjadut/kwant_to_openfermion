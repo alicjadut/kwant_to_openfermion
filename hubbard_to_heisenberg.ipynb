{
 "cells": [
  {
   "cell_type": "markdown",
   "metadata": {},
   "source": [
    "$$\\newcommand{\\ket}[1]{\\left|{#1}\\right\\rangle}\n",
    "\\newcommand{\\bra}[1]{\\left\\langle{#1}\\right|}$$\n",
    "\n",
    "# Heisenberg model as a low energy limit of the Hubbard model"
   ]
  },
  {
   "cell_type": "code",
   "execution_count": 2,
   "metadata": {
    "ExecuteTime": {
     "end_time": "2021-01-08T17:16:13.825830Z",
     "start_time": "2021-01-08T17:16:10.531095Z"
    }
   },
   "outputs": [
    {
     "name": "stderr",
     "output_type": "stream",
     "text": [
      "C:\\Users\\Repair\\anaconda3\\lib\\site-packages\\kwant\\solvers\\default.py:16: RuntimeWarning: MUMPS is not available, SciPy built-in solver will be used as a fallback. Performance can be very poor in this case.\n",
      "  warnings.warn(\"MUMPS is not available, \"\n"
     ]
    }
   ],
   "source": [
    "import numpy as np\n",
    "import matplotlib.pyplot as plt\n",
    "\n",
    "import kwant\n",
    "import openfermion\n",
    "\n",
    "import sys\n",
    "sys.path.append('kwant_to_openfermion')\n",
    "from fermionic_systems import *\n",
    "from spin_lattices import *\n",
    "\n",
    "from tqdm.notebook import tqdm"
   ]
  },
  {
   "cell_type": "markdown",
   "metadata": {
    "heading_collapsed": true
   },
   "source": [
    "## Hubbard model\n",
    "\n",
    "$$H = -t \\sum_{<i,j>}\\sum_\\sigma (c_{i, \\sigma}^\\dagger c_{j, \\sigma}+c_{j, \\sigma}^\\dagger c_{i, \\sigma}) + U \\sum_i n_{i, \\uparrow}n_{i,_\\downarrow}$$"
   ]
  },
  {
   "cell_type": "markdown",
   "metadata": {
    "heading_collapsed": true
   },
   "source": [
    "## Heisenberg model\n",
    "\n",
    "$$H = \\sum_{i,j} J_{i,j}\\vec{S_i} \\cdot \\vec{S_j}$$"
   ]
  },
  {
   "cell_type": "markdown",
   "metadata": {
    "heading_collapsed": true
   },
   "source": [
    "## Deriving Heisenberg model from the Hubbard model"
   ]
  },
  {
   "cell_type": "markdown",
   "metadata": {
    "hidden": true
   },
   "source": [
    "Rewrite Hubbard hamiltonian as a sum\n",
    "$$H = H_0 + H_1$$\n",
    "of \n",
    "$$H_0 = U \\sum_i n_{i, \\uparrow}n_{i,_\\downarrow}$$\n",
    "and a small perturbation\n",
    "$$H_1 = -t \\sum_{<i,j>}\\sum_\\sigma (c_{i, \\sigma}^\\dagger c_{j, \\sigma}+c_{j, \\sigma}^\\dagger c_{i, \\sigma}) = -\\sum_{i,j}t_{i,j}c_{i, \\sigma}^\\dagger c_{j, \\sigma}.$$\n",
    "\n",
    "The unperturbed hamiltonian has eigenstates\n",
    "$$\\ket{\\alpha} = c_{\\alpha_1}^\\dagger c_{\\alpha_2}^\\dagger ... \\ket{0}$$\n",
    "with energies $nU$ for $n \\in \\mathbb{N}$ -\n",
    "$n$ is the number of sites with 2 electrons.\n",
    "Ground state energy is 0, and the ground state is degenerate -\n",
    "for a system with $N$ sites, there are $3^N$ orthogonal states with energy 0\n",
    "(at each site there can be no electrons, a spin up electron or a spin down electron).\n",
    "In general, the degeneracy of energy $nU$ is ${N \\choose n} 3^{N-n}$.\n",
    "\n",
    "We are only considering the subspace with exactly $N$ electrons.\n",
    "Then the ground states have exactly one electron at each site.\n",
    "But the spin can of each electron can be chosen independently, so the degeneracy is still exponential - $2^N$."
   ]
  },
  {
   "cell_type": "markdown",
   "metadata": {
    "hidden": true
   },
   "source": [
    "First order of perturbation theory:\n",
    "\n",
    "$$E^{(1)}_\\lambda = \\bra{\\lambda} H_1 \\ket{\\lambda}$$\n",
    "\n",
    "We only care about low energies.\n",
    "\n",
    "Let $\\mathcal H_0$ be the subspace of states with $N$ electrons and 0 energy.\n",
    "It is spanned by\n",
    "$$\\ket\\alpha = c^\\dagger_{1, \\sigma_1} c^\\dagger_{2, \\sigma_2} ... c^\\dagger_{N, \\sigma_N} \\ket 0.$$\n",
    "\n",
    "Let's consider one term of $H_1$:\n",
    "$$T_{i,j} = \\sum_\\sigma c_{i, \\sigma}^\\dagger c_{j, \\sigma}.$$\n",
    "There is exactly one electron on both $i$-th and $j$-th site.\n",
    "If $\\sigma_i = \\sigma_j$, then $T_{i,j}\\ket\\alpha = 0$, because\n",
    "$$T_{i,j}\\ket\\alpha = \\left( c_{i, \\sigma_i}^\\dagger c_{j, \\sigma_i} +  c_{i, -\\sigma_i}^\\dagger c_{j, -\\sigma_i} \\right)\\ket\\alpha = c_{i, \\sigma_i}^\\dagger c_{j, \\sigma_i} \\ket\\alpha = \\pm (2c_{i, \\sigma_i}^\\dagger )^2 c_{j, \\sigma_i} \\prod_{l \\neq i} c^\\dagger_{l, \\sigma_l} \\ket 0 = 0.$$\n",
    "If $\\sigma_i \\neq \\sigma_j$,\n",
    "$$T_{i,j}\\ket\\alpha =\n",
    "c^\\dagger_{i, \\sigma_j} c_{j, \\sigma_j} \\ket\\alpha =\n",
    "\\pm c^\\dagger_{i, \\sigma_j} c_{j, \\sigma_j} c^\\dagger_{i, \\sigma_i} c^\\dagger_{j, \\sigma_j}\n",
    "\\prod_{l \\neq i,j} c^\\dagger_{l, \\sigma_l} \\ket 0 =\n",
    "\\mp c^\\dagger_{i, \\sigma_j} c^\\dagger_{i, \\sigma_i}\n",
    "\\prod_{l \\neq i,j} c^\\dagger_{l, \\sigma_l} \\ket 0.$$\n",
    "So $T_{i,j}\\ket\\alpha$ has 2 electrons on $i$-th site.\n",
    "$H_1 \\ket\\alpha = -\\sum_{i,j}t_{i,j}T_{i,j} \\ket\\alpha$\n",
    "is a sum of zeros and states with a single pair of electrons, so\n",
    "$$H_1 \\ H_1\\ket\\alpha = U H_1\\ket\\alpha.$$\n",
    "So $H_1\\ket\\alpha$ is orthogonal to all states with energy 0.\n",
    "So for all states $\\ket\\lambda$, $\\ket{\\lambda'} \\in \\mathcal H_0$ \n",
    "$$\\bra{\\lambda} H_1 \\ket{\\lambda'} = 0$$\n",
    "-- the first correction to energy is 0. \n",
    "This is true no matter what basis we choose for this subspace.\n",
    "Let's choose a basis in which $H_1$ is diagonal, so that we can calculate the second order perturbations.\n",
    "In this basis\n",
    "$$E_\\lambda^{(2)} =\n",
    "\\sum_{E_\\rho^{(0)} \\neq E_\\lambda^{(0)}} \\frac{|\\bra\\rho H_1 \\ket\\lambda |^2}{E_\\lambda^{(0)} - E_\\rho^{(0)}} =\n",
    "-\\sum_{E_\\rho^{(0)} \\neq 0} \\frac{|\\bra\\rho H_1 \\ket\\lambda |^2}{E_\\rho^{(0)}}.$$\n",
    "As discussed before $\\bra\\rho H_1 \\ket\\lambda \\neq 0$\n",
    "only when $\\ket\\rho$ has exactly one pair of electrons -- $E_\\rho^{(0)} = U$.\n",
    "So\n",
    "$$E_\\lambda^{(2)} =\n",
    "\\frac{-1}{U} \\sum_{E_\\rho^{(0)} = U} |\\bra\\rho H_1 \\ket\\lambda |^2 = \n",
    "\\frac{-1}{U}  \\bra\\lambda H_1 \\left( \\sum_{E_\\rho^{(0)} = U}\\ket\\rho\\bra\\rho \\right)  H_1 \\ket\\lambda,$$\n",
    "where\n",
    "$$\\sum_{E_\\rho^{(0)} = U}\\ket\\rho\\bra\\rho \\equiv \\Pi_1 $$\n",
    "is the projector on the subspace with energy $U$.\n",
    "But for all $\\lambda$, $H_1 \\ket\\lambda$ lies in that subspace, and the projector just acts as identity.\n",
    "So the effective second order hamiltonian on the subspace $\\mathcal H_0$ is\n",
    "$$H_{eff} = \\Pi_0 \\left( H_0 - \\frac{1}{U} H_1^2 \\right) \\Pi_0 = -\\frac{1}{U} \\Pi_0  H_1^2 \\Pi_0.$$"
   ]
  },
  {
   "cell_type": "markdown",
   "metadata": {
    "hidden": true
   },
   "source": [
    "$$H_1^2 =\n",
    "\\sum_{i,j}\\sum_{k,l}\\sum_{\\sigma, \\sigma'}\n",
    "t_{i,j}t_{k,l}\n",
    "c_{i, \\sigma}^\\dagger c_{j, \\sigma}\n",
    "c_{k, \\sigma'}^\\dagger c_{l, \\sigma'}$$\n",
    "The only terms from that sum that will contribute\n",
    "are those that produce a state with 1 electron at each site when acting on a state with 1 electron at each site --\n",
    "those in the form\n",
    "$$c_{a, \\sigma}^\\dagger c_{b,\\sigma} c_{b, \\sigma'}^\\dagger c_{a, \\sigma'}.$$\n",
    "Therefore\n",
    "$$\\Pi_0 H_1^2 \\Pi_0 =\n",
    "\\Pi_0 \\sum_{<i,j>}\\sum_{\\sigma, \\sigma'}\n",
    "|t_{i,j}|^2\n",
    "c_{i, \\sigma}^\\dagger c_{j, \\sigma}\n",
    "c_{j, \\sigma'}^\\dagger c_{i, \\sigma'} \\Pi_0.$$\n",
    "Using the anticommutation relations and $i\\neq j$:\n",
    "$$\n",
    "\\sum_{\\sigma, \\sigma'}\n",
    "c_{i, \\sigma}^\\dagger c_{j, \\sigma} c_{j, \\sigma'}^\\dagger c_{i, \\sigma'}\n",
    "= \\\\ =\n",
    "\\sum_{\\sigma, \\sigma'}\n",
    "c_{i, \\sigma}^\\dagger c_{i, \\sigma'}c_{j, \\sigma} c_{j, \\sigma'}^\\dagger \n",
    "= \\\\ =\n",
    "\\sum_{\\sigma, \\sigma'}\n",
    "c_{i, \\sigma}^\\dagger c_{i, \\sigma'}\\left(\\delta_{\\sigma, \\sigma'} - c_{j, \\sigma'}^\\dagger c_{j, \\sigma} \\right) \n",
    "= \\\\ =\n",
    "\\sum_\\sigma n_{i, \\sigma} -\n",
    "\\sum_{\\sigma, \\sigma'}\n",
    "c_{i, \\sigma}^\\dagger c_{i, \\sigma'} c_{j, \\sigma'}^\\dagger c_{j, \\sigma} \n",
    "= \\\\ =\n",
    "\\sum_\\sigma \\left(\n",
    "n_{i, \\sigma}\n",
    "- n_{i,\\sigma}n_{j, \\sigma}\n",
    "- c_{i, \\sigma}^\\dagger c_{i, -\\sigma} c_{j, -\\sigma}^\\dagger c_{j, \\sigma}\n",
    "\\right)\n",
    "$$\n",
    "\n",
    "All states in $\\mathcal H_0$ have exactly one electron at each site so\n",
    "$$\\Pi_0 \\left( \\sum_\\sigma n_{i,\\sigma} \\right) \\Pi_0 = \\Pi_0 * 1 *\\Pi_0 = \\Pi_0$$\n",
    "\n",
    "So the effective hamiltonian is\n",
    "$$H_{eff} =\n",
    "\\Pi_0\n",
    "\\sum_{i,j}\n",
    "\\frac{t_{i,j}^2}{U}\n",
    "\\sum_\\sigma\n",
    "\\left(\n",
    "n_{i,\\sigma}n_{j, \\sigma}\n",
    "+ c_{i, \\sigma}^\\dagger c_{i, -\\sigma} c_{j, -\\sigma}^\\dagger c_{j, \\sigma}\n",
    "- \\frac{1}{2}\n",
    "\\right)\n",
    "\\Pi_0.$$"
   ]
  },
  {
   "cell_type": "markdown",
   "metadata": {
    "hidden": true
   },
   "source": [
    "Now we will rewrite the effective hamiltonian in terms of spin operators.\n",
    "We have\n",
    "$$S_i^z = \\frac{1}{2} \\left(n_{i,\\uparrow} - n_{i,\\downarrow} \\right)$$\n",
    "$$S_i^+ = c_{i,\\uparrow}^\\dagger c_{i, \\downarrow}$$\n",
    "$$S_i^- = c_{i,\\downarrow}^\\dagger c_{i, \\uparrow}$$\n",
    "We immiedietly see that\n",
    "$$\\sum_\\sigma\n",
    "c_{i, \\sigma}^\\dagger c_{i, -\\sigma} c_{j, -\\sigma}^\\dagger c_{j, \\sigma}\n",
    "=\n",
    "S_i^+S_j^- + S_i^-S_j^+\n",
    "$$\n",
    "The only non-trivial term to rewrite is\n",
    "$\\sum_\\sigma n_{i,\\sigma}n_{j, \\sigma}$.\n",
    "The usual math trick $a = (a+b)/2 + (a-b)/2$ we rewrite it as\n",
    "$$\\sum_\\sigma n_{i,\\sigma}n_{j, \\sigma}\n",
    "= \\\\ =\n",
    "\\frac{1}{2}\\left(\\sum_\\sigma n_{i,\\sigma}n_{j, \\sigma} + \\sum_\\sigma n_{i,\\sigma}n_{j, -\\sigma}\\right)\n",
    "+\n",
    "\\frac{1}{2}\\left(\\sum_\\sigma n_{i,\\sigma}n_{j, \\sigma} - \\sum_\\sigma n_{i,\\sigma}n_{j, -\\sigma}\\right)\n",
    "$$\n",
    "Using again the fact that there is exactly one elctron at each site we can rewrite the first term as\n",
    "$$\\Pi_0 \\sum_\\sigma\\left(\n",
    " n_{i,\\sigma}n_{j, \\sigma} + n_{i,\\sigma}n_{j, -\\sigma}\n",
    "\\right) \\Pi_0\n",
    "= \\\\ =\n",
    "\\Pi_0 \\sum_\\sigma\n",
    " n_{i,\\sigma}\\left(n_{j, \\sigma} + n_{j, -\\sigma}\n",
    "\\right) \\Pi_0\n",
    "= \\\\ =\n",
    "\\Pi_0 \\sum_\\sigma n_{i,\\sigma} \\Pi_0 = \\Pi_0.\n",
    "$$\n",
    "The second term is\n",
    "$$\n",
    "\\sum_\\sigma\\left(\n",
    " n_{i,\\sigma}n_{j, \\sigma} - n_{i,\\sigma}n_{j, -\\sigma}\n",
    "\\right)\n",
    "= \\\\ =\n",
    "n_{i,\\uparrow}n_{j, \\uparrow}+\n",
    "n_{i,\\downarrow}n_{j, \\downarrow}-\n",
    "n_{i,\\uparrow}n_{j, \\downarrow}-\n",
    "n_{i,\\downarrow}n_{j, \\uparrow}\n",
    "= \\\\ =\n",
    "(\n",
    "n_{i,\\uparrow} - n_{i, \\downarrow})(\n",
    "n_{j,\\uparrow} - n_{j, \\downarrow})\n",
    "=\n",
    "4 S_i^z S_j^z\n",
    "$$\n",
    "Combining both yields\n",
    "$$\n",
    "\\Pi_0\n",
    "\\sum_\\sigma n_{i,\\sigma}n_{j, \\sigma} \n",
    "\\Pi_0\n",
    "=\n",
    "\\Pi_0\n",
    "\\left(\n",
    "\\frac{1}{2}+2 S_i^z S_j^z\n",
    "\\right)\n",
    "\\Pi_0\n",
    "$$\n",
    "and so\n",
    "$$H_{eff} =\n",
    "\\Pi_0\n",
    "\\sum_{i,j}\n",
    "\\frac{t_{i,j}^2}{U}\n",
    "\\left(\n",
    "2 S_i^z S_j^z\n",
    "+ S_i^+S_j^- + S_i^-S_j^+\n",
    "- \\frac{1}{2}\n",
    "\\right)\n",
    "\\Pi_0.$$"
   ]
  },
  {
   "cell_type": "markdown",
   "metadata": {
    "hidden": true
   },
   "source": [
    "We know that\n",
    "$$\\vec{S_i}\\cdot \\vec{S_j} = S_i^z S_j^z + \\frac{1}{2}\\left(S_i^+ S_j^-+S_i^- S_j^+\\right).$$\n",
    "So\n",
    "$$H_{eff} = \\Pi_0\\sum_{i,j}\\frac{t_{i,j}^2}{U}\n",
    "\\left(\n",
    "2 \\vec{S_i}\\cdot \\vec{S_j}\n",
    "- \\frac{1}{2}\n",
    "\\right)\n",
    "\\Pi_0$$\n",
    "Then using $t_{i,j} = t_{j,i}$ and $\\vec S_i \\cdot \\vec S_j = \\vec S_j \\cdot \\vec S_i$ we get\n",
    "$$H_{eff} = \\frac{t^2}{U} \\sum_{<i,j>}\\Pi_0\n",
    "\\left(\n",
    "4 \\vec{S_i}\\cdot \\vec{S_j}\n",
    "- 1\n",
    "\\right)\n",
    "\\Pi_0$$\n",
    "-- Heisenberg model with $J = 4t^2/U$, up to a constant\n",
    "$$C = \\frac{t^2}{U}\\sum_{<i,j>}1.$$"
   ]
  },
  {
   "cell_type": "markdown",
   "metadata": {
    "heading_collapsed": true
   },
   "source": [
    "## Two site model"
   ]
  },
  {
   "cell_type": "markdown",
   "metadata": {
    "heading_collapsed": true,
    "hidden": true
   },
   "source": [
    "### Two site Hubbard model\n",
    "\n",
    "$$H = -t \\sum_\\sigma \\left( c_{A, \\sigma}^\\dagger c_{B, \\sigma}+ c_{B, \\sigma}^\\dagger c_{A, \\sigma} \\right) + U \\sum_{i = A, B} n_{i, \\uparrow}n_{i,_\\downarrow}$$"
   ]
  },
  {
   "cell_type": "markdown",
   "metadata": {
    "heading_collapsed": true,
    "hidden": true
   },
   "source": [
    "#### Analytical solution"
   ]
  },
  {
   "cell_type": "markdown",
   "metadata": {
    "hidden": true
   },
   "source": [
    "\n",
    "Symmetries of the hamiltonian:\n",
    "- spin\n",
    "- number of electrons\n",
    "- inversion: swap the labels $A \\leftrightarrow B$\n",
    "\n",
    "States with 2 electrons:\n",
    "\n",
    "There are 3 spin 1 states, distinguished by $S_Z$:\n",
    "- spin 1, +1: $\\ket{\\Psi_{+1}^{1}} = c_{A, \\uparrow}^\\dagger c_{B, \\uparrow}^\\dagger \\ket{0}$\n",
    "- spin 1, -1: $\\ket{\\Psi_{-1}^{1}} = c_{A, \\downarrow}^\\dagger c_{B, \\downarrow}^\\dagger \\ket{0}$\n",
    "- spin 1, 0: $\\ket{\\Psi_{0}^{1}} = \\frac{1}{\\sqrt 2} \\left( c_{A, \\uparrow}^\\dagger c_{B, \\downarrow}^\\dagger + c_{A, \\downarrow}^\\dagger c_{B, \\uparrow}^\\dagger\\right) \\ket{0}$\n",
    "\n",
    "for all spin 1 states $H \\ket{\\Psi_{s}^{1}} = 0$.\n",
    "\n",
    "There are 3 spin 0 states spanned by:\n",
    "- $\\ket{\\Psi_A} = c_{A, \\uparrow}^\\dagger c_{A, \\downarrow}^\\dagger \\ket{0}$, \n",
    "- $\\ket{\\Psi_B} = c_{B, \\uparrow}^\\dagger c_{B, \\downarrow}^\\dagger \\ket{0}$, \n",
    "- $\\ket{\\Psi_{HL}}\\frac{1}{\\sqrt 2} \\left( c_{A, \\uparrow}^\\dagger c_{B, \\downarrow}^\\dagger - c_{A, \\downarrow}^\\dagger c_{B, \\uparrow}^\\dagger\\right) \\ket{0}$.\n",
    "\n",
    "Only one spin 0 state is  odd under inversion:\n",
    "$$\\ket{\\Psi_-} = \\frac{1}{\\sqrt 2} \\left( \\ket{\\Psi_A} - \\ket{\\Psi_B}\\right).$$\n",
    "$$H \\ket{\\Psi_-} = U \\ket{\\Psi_-}$$\n",
    "\n",
    "There are 2 orthogonal states left: $\\ket{\\Psi_{HL}}$ and\n",
    "$\\ket{\\Psi_+} = \\frac{1}{\\sqrt 2} \\left( \\ket{\\Psi_A} + \\ket{\\Psi_B}\\right)$.\n",
    "They are not distinguishable by any symmetry, so they couple.\n",
    "\n",
    "$\\ket{\\Psi_{HL}}$ - Heitler-London state - is the ground state of the hamiltonian for $U=0$.\n",
    "\n",
    "$\\ket{\\Psi_\\pm}$ are called charge transfer (CT) states.\n",
    "\n",
    "$$H \\ket{\\Psi_+} = -2t \\ket{\\Psi_{HL}} + U \\ket{\\Psi_+}$$\n",
    "$$H \\ket{\\Psi_{HL}} = -2t \\ket{\\Psi_+}$$\n",
    "\n",
    "The remaining 2 eigenstates are:\n",
    "- $\\ket{\\Psi_{CF}} = \\cos\\theta \\ket{\\Psi_{HL}} + \\sin\\theta \\ket{\\Psi_+}$ with energy $E_{CF} = \\frac{1}{2} (U - \\sqrt{U^2 + 16t^2})$\n",
    "- $\\ket{\\Psi_{S^2}} = \\sin\\theta \\ket{\\Psi_{HL}} + \\cos\\theta \\ket{\\Psi_+}$ with energy $E_{S^2} = \\frac{1}{2} (U + \\sqrt{U^2 + 16t^2})$\n",
    "\n",
    "where $\\tan \\theta = \\frac{U - \\sqrt{U^2 + 16t^2}}{4t}$\n",
    "\n",
    "The ground state -- $\\ket{\\Psi_{CF}}$ -- is called Coulson-Fischer state.\n",
    "\n",
    "Spectrum for 2 electrons:\n",
    "$$\n",
    "\\frac{1}{2} \\left( U - \\sqrt{U^2 + 16t^2} \\right),\n",
    "0, 0, 0,\n",
    "U,\n",
    "\\frac{1}{2} \\left( U + \\sqrt{U^2 + 16t^2} \\right)\n",
    "$$\n",
    "\n",
    "\n",
    "Other states:\n",
    "\n",
    "The vacuum has energy 0.\n",
    "\n",
    "The single electron states:\n",
    "\n",
    "Eigenstates of spin and inversion are:\n",
    "$$\\ket{\\psi_\\pm ^\\sigma} = \\frac{1}{\\sqrt 2} \\left(c^\\dagger_{A, \\sigma} \\pm c^\\dagger_{B, \\sigma} \\right) \\ket{0}.$$\n",
    "\n",
    "Even states have energy $-t$ and odd states have energy $+t$.\n",
    "\n",
    "3 electrons:\n",
    "\n",
    "spin and inversion eigenstates:\n",
    "- $\\frac{1}{\\sqrt2} \\left(\n",
    "c_{A\\uparrow}^\\dagger c_{B\\uparrow}^\\dagger c_{B\\downarrow}^\\dagger\n",
    "\\pm\n",
    "c_{A\\uparrow}^\\dagger c_{A\\downarrow}^\\dagger c_{B\\uparrow}^\\dagger\n",
    "\\right) \\ket{0}$\n",
    "- $\\frac{1}{\\sqrt2} \\left(\n",
    "c_{A\\downarrow}^\\dagger c_{B\\uparrow}^\\dagger c_{B\\downarrow}^\\dagger\n",
    "\\pm\n",
    "c_{A\\uparrow}^\\dagger c_{A\\downarrow}^\\dagger c_{B\\downarrow}^\\dagger\n",
    "\\right) \\ket{0}$\n",
    "\n",
    "All are eigenstates of the on-site part of the Hamiltonian with eigenvalue $U$.\n",
    "\n",
    "For the hopping part:\n",
    "\n",
    "$$c_\\alpha^\\dagger c_\\beta \\ c_1^\\dagger c_2^\\dagger c_3^\\dagger \\ket{0} \\neq 0\n",
    "\\quad \\Leftrightarrow \\quad\n",
    "\\alpha\\neq 1,2,3 \\quad \\beta \\in 1,2,3$$\n",
    "\n",
    "so the eigenvalues are $\\pm t$.\n",
    "\n",
    "The energies of the 3 electron states are $U \\pm t$.\n",
    "\n",
    "4 electrons state has energy 2U."
   ]
  },
  {
   "cell_type": "markdown",
   "metadata": {
    "heading_collapsed": true,
    "hidden": true
   },
   "source": [
    "#### Numerical solution"
   ]
  },
  {
   "cell_type": "markdown",
   "metadata": {
    "hidden": true
   },
   "source": [
    "$$A, \\uparrow \\quad \\leftrightarrow \\quad 0$$\n",
    "$$A, \\downarrow \\quad \\leftrightarrow \\quad 1$$\n",
    "$$B, \\uparrow \\quad \\leftrightarrow \\quad 2$$\n",
    "$$B, \\downarrow \\quad \\leftrightarrow \\quad 3$$"
   ]
  },
  {
   "cell_type": "code",
   "execution_count": 2,
   "metadata": {
    "ExecuteTime": {
     "end_time": "2020-12-14T15:55:23.796556Z",
     "start_time": "2020-12-14T15:55:23.792566Z"
    },
    "hidden": true
   },
   "outputs": [],
   "source": [
    "def hubbard_2s_hamiltonian(t, U):\n",
    "    ham = \\\n",
    "    openfermion.FermionOperator('0^ 2', -t) + \\\n",
    "    openfermion.FermionOperator('2^ 0', -t) + \\\n",
    "    openfermion.FermionOperator('1^ 3', -t) + \\\n",
    "    openfermion.FermionOperator('3^ 1', -t) + \\\n",
    "    openfermion.FermionOperator('0^ 0 1^ 1', U) + \\\n",
    "    openfermion.FermionOperator('2^ 2 3^ 3', U)\n",
    "    return ham"
   ]
  },
  {
   "cell_type": "code",
   "execution_count": 3,
   "metadata": {
    "ExecuteTime": {
     "end_time": "2020-12-14T15:55:23.807545Z",
     "start_time": "2020-12-14T15:55:23.798549Z"
    },
    "hidden": true
   },
   "outputs": [
    {
     "data": {
      "text/plain": [
       "1.0 [0^ 0 1^ 1] +\n",
       "-1 [0^ 2] +\n",
       "-1.0 [1^ 3] +\n",
       "-1.0 [2^ 0] +\n",
       "1.0 [2^ 2 3^ 3] +\n",
       "-1.0 [3^ 1]"
      ]
     },
     "execution_count": 3,
     "metadata": {},
     "output_type": "execute_result"
    }
   ],
   "source": [
    "hubbard_2s_hamiltonian(1,1)"
   ]
  },
  {
   "cell_type": "code",
   "execution_count": 4,
   "metadata": {
    "ExecuteTime": {
     "end_time": "2020-12-14T15:55:24.697145Z",
     "start_time": "2020-12-14T15:55:23.808524Z"
    },
    "hidden": true
   },
   "outputs": [],
   "source": [
    "energies = []\n",
    "x_list = np.linspace(0, 2, 100)\n",
    "for x in x_list:\n",
    "    energies.append(openfermion.eigenspectrum(hubbard_2s_hamiltonian(U = 1, t = x)))"
   ]
  },
  {
   "cell_type": "code",
   "execution_count": 5,
   "metadata": {
    "ExecuteTime": {
     "end_time": "2020-12-14T15:55:25.196812Z",
     "start_time": "2020-12-14T15:55:24.698142Z"
    },
    "hidden": true
   },
   "outputs": [
    {
     "data": {
      "image/png": "[encoded data removed]",
      "text/plain": [
       "<Figure size 864x432 with 2 Axes>"
      ]
     },
     "metadata": {
      "needs_background": "light"
     },
     "output_type": "display_data"
    }
   ],
   "source": [
    "plt.figure(figsize = (12, 6))\n",
    "\n",
    "plt.subplot(1,2,1)\n",
    "\n",
    "plt.plot(x_list, energies, c = 'navy', linewidth = 1)\n",
    "plt.xlabel(r'$t/U$')\n",
    "plt.ylabel(r'Energy $[U]$')\n",
    "plt.title(r'Numerical solution')\n",
    "\n",
    "\n",
    "plt.subplot(1,2,2)\n",
    "\n",
    "\n",
    "#vac\n",
    "plt.plot(x_list, [0]*100, c = 'black', label = '0')\n",
    "\n",
    "#1e\n",
    "plt.plot(x_list, x_list, c = 'gray', label = '1')\n",
    "plt.plot(x_list, -x_list, c = 'gray')\n",
    "\n",
    "#2e\n",
    "plt.plot(x_list, [0]*100, c = 'blue', label = '2')\n",
    "plt.plot(x_list, [1]*100, c = 'blue')\n",
    "plt.plot(x_list, 0.5*(1+np.sqrt(1+16*x_list**2)), c = 'blue')\n",
    "plt.plot(x_list, 0.5*(1-np.sqrt(1+16*x_list**2)), c = 'blue')\n",
    "\n",
    "#3e\n",
    "plt.plot(x_list, 1 + x_list, c = 'green', label = '3')\n",
    "plt.plot(x_list, 1 - x_list, c = 'green')\n",
    "\n",
    "#4e\n",
    "plt.plot(x_list, [2]*100, c = 'black', label = '4')\n",
    "\n",
    "plt.xlabel(r'$t/U$')\n",
    "plt.ylabel(r'Energy $[U]$')\n",
    "plt.title(r'Analytical solution')\n",
    "\n",
    "plt.legend(title = 'Number of electrons')\n",
    "\n",
    "plt.show()"
   ]
  },
  {
   "cell_type": "markdown",
   "metadata": {
    "heading_collapsed": true,
    "hidden": true
   },
   "source": [
    "### Two site Heisenberg model\n",
    "\n",
    "$$H = J\\vec{S_1} \\cdot \\vec{S_2}$$"
   ]
  },
  {
   "cell_type": "markdown",
   "metadata": {
    "hidden": true
   },
   "source": [
    "#### Analytical solution"
   ]
  },
  {
   "cell_type": "markdown",
   "metadata": {
    "hidden": true
   },
   "source": [
    "Total spin operator $\\vec S = \\vec{S_1} + \\vec{S_2}$ commutes with $H$, so the eigenstates are spin eigenstates:\n",
    "- $\\ket{\\Psi_0^0} = \\frac{1}{\\sqrt 2}\\left(\\ket{\\uparrow \\downarrow} - \\ket{\\downarrow \\uparrow}\\right)$\n",
    "- $\\ket{\\Psi_{+1}^1} = \\ket{\\uparrow \\uparrow}$\n",
    "- $\\ket{\\Psi_0^1} = \\frac{1}{\\sqrt 2}\\left(\\ket{\\uparrow \\downarrow} + \\ket{\\downarrow \\uparrow}\\right)$\n",
    "- $\\ket{\\Psi_{-1}^1} = \\ket{\\downarrow \\downarrow}$\n",
    "\n",
    "The spin 0 state has energy $E_0 = -3J/4$ and all the spin 1 states have energy $E_1 = J/4$."
   ]
  },
  {
   "cell_type": "markdown",
   "metadata": {
    "hidden": true
   },
   "source": [
    "#### Numerical solution"
   ]
  },
  {
   "cell_type": "code",
   "execution_count": 6,
   "metadata": {
    "ExecuteTime": {
     "end_time": "2020-12-14T15:55:25.201872Z",
     "start_time": "2020-12-14T15:55:25.197810Z"
    },
    "hidden": true
   },
   "outputs": [],
   "source": [
    "def heisenberg_2s_hamiltonian(J):\n",
    "    ham = \\\n",
    "    openfermion.QubitOperator('X0 X1', J/4) + \\\n",
    "    openfermion.QubitOperator('Y0 Y1', J/4) + \\\n",
    "    openfermion.QubitOperator('Z0 Z1', J/4)\n",
    "    return ham"
   ]
  },
  {
   "cell_type": "code",
   "execution_count": 7,
   "metadata": {
    "ExecuteTime": {
     "end_time": "2020-12-14T15:55:25.213307Z",
     "start_time": "2020-12-14T15:55:25.204331Z"
    },
    "hidden": true,
    "scrolled": true
   },
   "outputs": [
    {
     "data": {
      "text/plain": [
       "1.0 [X0 X1] +\n",
       "1.0 [Y0 Y1] +\n",
       "1.0 [Z0 Z1]"
      ]
     },
     "execution_count": 7,
     "metadata": {},
     "output_type": "execute_result"
    }
   ],
   "source": [
    "heisenberg_2s_hamiltonian(4)"
   ]
  },
  {
   "cell_type": "code",
   "execution_count": 8,
   "metadata": {
    "ExecuteTime": {
     "end_time": "2020-12-14T15:55:25.224282Z",
     "start_time": "2020-12-14T15:55:25.214281Z"
    },
    "hidden": true
   },
   "outputs": [
    {
     "data": {
      "text/plain": [
       "array([-3.,  1.,  1.,  1.])"
      ]
     },
     "execution_count": 8,
     "metadata": {},
     "output_type": "execute_result"
    }
   ],
   "source": [
    "openfermion.eigenspectrum(heisenberg_2s_hamiltonian(4))"
   ]
  },
  {
   "cell_type": "markdown",
   "metadata": {
    "heading_collapsed": true,
    "hidden": true
   },
   "source": [
    "### Atomic limit\n",
    "\n",
    "\n",
    "In the atomic limit -- $x = \\frac{t}{U} << 1$."
   ]
  },
  {
   "cell_type": "markdown",
   "metadata": {
    "heading_collapsed": true,
    "hidden": true
   },
   "source": [
    "#### Using the exact solution"
   ]
  },
  {
   "cell_type": "markdown",
   "metadata": {
    "hidden": true
   },
   "source": [
    "$$\n",
    "\\frac{1}{2} \\left( U + \\sqrt{U^2 + 16t^2} \\right) =\n",
    "\\frac{U}{2} \\left( 1 + \\sqrt{1 + (4t/U)^2} \\right) \\approx\n",
    "U + \\frac{4t^2}{U}\n",
    "$$\n",
    "$$\n",
    "\\frac{1}{2} \\left( U - \\sqrt{U^2 + 16t^2} \\right) =\n",
    "\\frac{U}{2} \\left( 1 - \\sqrt{1 + (4t/U)^2} \\right) \\approx\n",
    "- \\frac{4t^2}{U}\n",
    "$$\n",
    "\n",
    "So the spectrum  of the Hubbard model for 2 electrons is (in the units of $U$):\n",
    "$$\n",
    "- 4x^2,\n",
    "0, 0, 0,\n",
    "1,\n",
    "1 + 4x^2\n",
    "$$\n",
    "\n",
    "The low energy spectrum is $- 4x^2, 0, 0, 0 $, equivalent to $H_{Heisenberg} - J/4$ with $J = \\frac{4t^2}{U}$\n"
   ]
  },
  {
   "cell_type": "markdown",
   "metadata": {
    "heading_collapsed": true,
    "hidden": true
   },
   "source": [
    "#### Using perturbation theory"
   ]
  },
  {
   "cell_type": "markdown",
   "metadata": {
    "hidden": true
   },
   "source": [
    "$\\mathcal H_0$ = states with 2 electrons and unperturbed energy 0 are\n",
    "$\\ket{\\Psi_{+1}^1}, \\ket{\\Psi_{0}^1}, \\ket{\\Psi_{-1}^1}, \\ket{\\Psi_{HL}}$.\n",
    "\n",
    "$$H_1\\ket{\\Psi_{HL}} = -2t\\ket{\\Psi_{+}}$$\n",
    "and $H_1\\ket\\lambda = 0$ for other states in $\\mathcal H_0$.\n",
    "\n",
    "The first order correction to the ground states energy is 0 for all states.\n",
    "The second order is non-zero only for $\\ket{\\Psi_{HL}}$.\n",
    "$$E_{HL}^{(2)} =\n",
    "\\sum_{E_\\rho^{(0)} \\neq E_{HL}^{(0)}} \\frac{|\\bra\\rho H_1 \\ket{\\Psi_{HL}} |^2}{E_\\lambda^{(0)} - E_\\rho^{(0)}} =\n",
    " \\frac{|\\bra{\\Psi_+} H_1 \\ket{\\Psi_{HL}} |^2}{E_{HL}^{(0)}- E_+^{(0)}} = \\frac{|-2t|^2}{0 - U} = \\frac{-4t^2}{U}.$$\n",
    " \n",
    " So the low energy spectrum is $\\frac{-4t^2}{U}, 0,0,0$."
   ]
  },
  {
   "cell_type": "markdown",
   "metadata": {
    "hidden": true
   },
   "source": [
    "#### Numerically"
   ]
  },
  {
   "cell_type": "code",
   "execution_count": 9,
   "metadata": {
    "ExecuteTime": {
     "end_time": "2020-12-14T15:55:26.629257Z",
     "start_time": "2020-12-14T15:55:25.367885Z"
    },
    "hidden": true
   },
   "outputs": [],
   "source": [
    "hub_energies = []\n",
    "hei_energies = []\n",
    "x_list = np.linspace(0, 0.2, 100)\n",
    "for x in x_list:\n",
    "    hub_energies.append(openfermion.eigenspectrum(hubbard_2s_hamiltonian(U = 1, t = x)))\n",
    "    hei_energies.append(openfermion.eigenspectrum(heisenberg_2s_hamiltonian(J = 4*x**2)) - x**2)"
   ]
  },
  {
   "cell_type": "code",
   "execution_count": 10,
   "metadata": {
    "ExecuteTime": {
     "end_time": "2020-12-14T15:55:26.868571Z",
     "start_time": "2020-12-14T15:55:26.630179Z"
    },
    "hidden": true
   },
   "outputs": [
    {
     "data": {
      "image/png": "[encoded data removed]",
      "text/plain": [
       "<Figure size 432x288 with 1 Axes>"
      ]
     },
     "metadata": {
      "needs_background": "light"
     },
     "output_type": "display_data"
    }
   ],
   "source": [
    "plt.plot(x_list, hub_energies, c = 'blue', marker = '^', markersize = 1, linewidth = 0.1)\n",
    "plt.plot(x_list, hei_energies, c = 'black', marker = 'v', markersize = 1, linewidth = 0.1)\n",
    "plt.plot([], c = 'blue', label = 'Hubbard', marker = '^', linewidth = 0)\n",
    "plt.plot([], c = 'black', label = 'Heisenberg', marker = 'v', linewidth = 0)\n",
    "plt.xlabel(r'$t/U$')\n",
    "plt.ylabel(r'Energy $[U]$')\n",
    "plt.ylim(np.min(hei_energies), -np.min(hei_energies)/10)\n",
    "plt.legend()\n",
    "plt.show()"
   ]
  },
  {
   "cell_type": "markdown",
   "metadata": {
    "heading_collapsed": true
   },
   "source": [
    "## Other examples"
   ]
  },
  {
   "cell_type": "code",
   "execution_count": 10,
   "metadata": {
    "ExecuteTime": {
     "end_time": "2021-01-09T18:16:27.097725Z",
     "start_time": "2021-01-09T18:16:27.074851Z"
    },
    "hidden": true
   },
   "outputs": [],
   "source": [
    "def build_syst(lat, sites, onsite = 1, hopping = 1):\n",
    "    syst = kwant.Builder()\n",
    "    syst[(lat(*site) for site in sites)] = onsite\n",
    "    syst[lat.neighbors()] = hopping\n",
    "    syst = syst.finalized()\n",
    "    return syst\n",
    "    \n",
    "def plot_syst(lat, sites):\n",
    "    syst = build_syst(lat, sites)\n",
    "    kwant.plot(syst)\n",
    "\n",
    "def num_pairs(lat, sites):\n",
    "    syst = build_syst(lat, sites)\n",
    "    return syst.graph.num_edges//2"
   ]
  },
  {
   "cell_type": "code",
   "execution_count": 11,
   "metadata": {
    "ExecuteTime": {
     "end_time": "2021-01-09T18:16:28.220303Z",
     "start_time": "2021-01-09T18:16:28.174394Z"
    },
    "hidden": true
   },
   "outputs": [],
   "source": [
    "def hubbard_hamiltonian(t, U, lat, sites):\n",
    "    syst = build_syst(\n",
    "        lat = lat,\n",
    "        sites = sites,\n",
    "        onsite = 0*sigma_0,\n",
    "        hopping = -t*sigma_0\n",
    "    )\n",
    "    ham = system_to_FermionOperator(syst)\n",
    "    for i in range(len(sites)):\n",
    "        ham += openfermion.FermionOperator(f'{2*i}^ {2*i} {2*i+1}^ {2*i+1}', U)\n",
    "    return ham\n",
    "    \n",
    "def heisenberg_hamiltonian(J, lat, sites):\n",
    "    syst = build_syst(\n",
    "        lat = lat,\n",
    "        sites = sites,\n",
    "        onsite = 0*sigma_0,\n",
    "        hopping = J/4*(np.kron(sigma_x, sigma_x)+np.kron(sigma_y, sigma_y)+np.kron(sigma_z, sigma_z))\n",
    "    )\n",
    "    ham = system_to_QubitOperator(syst)\n",
    "    return ham"
   ]
  },
  {
   "cell_type": "code",
   "execution_count": 12,
   "metadata": {
    "ExecuteTime": {
     "end_time": "2021-01-09T18:16:30.686176Z",
     "start_time": "2021-01-09T18:16:30.661641Z"
    },
    "hidden": true
   },
   "outputs": [],
   "source": [
    "def hubbard_heisenberg_spectra(lat, sites, x_list):\n",
    "    \n",
    "    n_pairs = num_pairs(lat, sites)\n",
    "    \n",
    "    hub_energies = []\n",
    "    hei_energies = []\n",
    "    for x in tqdm(x_list):\n",
    "        hub_energies.append(\n",
    "            openfermion.eigenspectrum(\n",
    "                hubbard_hamiltonian(U = 1, t = x, lat = lat, sites = sites)\n",
    "            ))\n",
    "        hei_energies.append(\n",
    "            openfermion.eigenspectrum(\n",
    "                heisenberg_hamiltonian(J = 4*x**2, lat = lat, sites = sites)\n",
    "            ) - x**2*n_pairs)\n",
    "    return hub_energies, hei_energies"
   ]
  },
  {
   "cell_type": "code",
   "execution_count": 13,
   "metadata": {
    "ExecuteTime": {
     "end_time": "2021-01-09T18:16:32.180385Z",
     "start_time": "2021-01-09T18:16:32.153242Z"
    },
    "hidden": true
   },
   "outputs": [],
   "source": [
    "def plot_spectra(hub_energies, hei_energies, x_list):\n",
    "    plt.plot(x_list, hub_energies, c = 'blue', marker = '^', markersize = 1, linewidth = 0.1)\n",
    "    plt.plot(x_list, hei_energies, c = 'black', marker = 'v', markersize = 1, linewidth = 0.1)\n",
    "    plt.plot([], c = 'blue', label = 'Hubbard', marker = '^', linewidth = 0)\n",
    "    plt.plot([], c = 'black', label = 'Heisenberg', marker = 'v', linewidth = 0)\n",
    "    plt.xlabel(r'$t/U$')\n",
    "    plt.ylabel(r'Energy $[U]$')\n",
    "    plt.ylim(np.min(hei_energies), -np.min(hei_energies)/10)\n",
    "    plt.legend()\n",
    "    plt.show()"
   ]
  },
  {
   "cell_type": "markdown",
   "metadata": {
    "heading_collapsed": true,
    "hidden": true
   },
   "source": [
    "### Chain"
   ]
  },
  {
   "cell_type": "code",
   "execution_count": 15,
   "metadata": {
    "ExecuteTime": {
     "end_time": "2020-12-14T15:55:35.600281Z",
     "start_time": "2020-12-14T15:55:26.913422Z"
    },
    "hidden": true
   },
   "outputs": [
    {
     "data": {
      "image/png": "[encoded data removed]",
      "text/plain": [
       "<Figure size 432x288 with 1 Axes>"
      ]
     },
     "metadata": {
      "needs_background": "light"
     },
     "output_type": "display_data"
    },
    {
     "data": {
      "application/vnd.jupyter.widget-view+json": {
       "model_id": "078cb0acae3f4f4e89bb4bfcf0365745",
       "version_major": 2,
       "version_minor": 0
      },
      "text/plain": [
       "HBox(children=(FloatProgress(value=0.0, max=30.0), HTML(value='')))"
      ]
     },
     "metadata": {},
     "output_type": "display_data"
    },
    {
     "name": "stdout",
     "output_type": "stream",
     "text": [
      "\n"
     ]
    },
    {
     "data": {
      "image/png": "[encoded data removed]",
      "text/plain": [
       "<Figure size 432x288 with 1 Axes>"
      ]
     },
     "metadata": {
      "needs_background": "light"
     },
     "output_type": "display_data"
    }
   ],
   "source": [
    "n_sites = 5\n",
    "x_max = 0.1\n",
    "\n",
    "lat = kwant.lattice.chain()\n",
    "sites = [(n,) for n in range(n_sites)]\n",
    "\n",
    "x_list = np.linspace(x_max/100, x_max, 30)\n",
    "\n",
    "plot_syst(lat, sites)\n",
    "hub_energies, hei_energies = hubbard_heisenberg_spectra(lat, sites, x_list)\n",
    "plot_spectra(hub_energies, hei_energies, x_list)"
   ]
  },
  {
   "cell_type": "markdown",
   "metadata": {
    "heading_collapsed": true,
    "hidden": true
   },
   "source": [
    "### Square"
   ]
  },
  {
   "cell_type": "code",
   "execution_count": 16,
   "metadata": {
    "ExecuteTime": {
     "end_time": "2020-12-14T15:55:38.522044Z",
     "start_time": "2020-12-14T15:55:35.604304Z"
    },
    "hidden": true
   },
   "outputs": [
    {
     "data": {
      "image/png": "[encoded data removed]",
      "text/plain": [
       "<Figure size 432x288 with 1 Axes>"
      ]
     },
     "metadata": {
      "needs_background": "light"
     },
     "output_type": "display_data"
    },
    {
     "data": {
      "application/vnd.jupyter.widget-view+json": {
       "model_id": "3a0aa6a330a9454bb0cefd4554083383",
       "version_major": 2,
       "version_minor": 0
      },
      "text/plain": [
       "HBox(children=(FloatProgress(value=0.0, max=30.0), HTML(value='')))"
      ]
     },
     "metadata": {},
     "output_type": "display_data"
    },
    {
     "name": "stdout",
     "output_type": "stream",
     "text": [
      "\n"
     ]
    },
    {
     "data": {
      "image/png": "[encoded data removed]",
      "text/plain": [
       "<Figure size 432x288 with 1 Axes>"
      ]
     },
     "metadata": {
      "needs_background": "light"
     },
     "output_type": "display_data"
    }
   ],
   "source": [
    "x_max = 0.2\n",
    "\n",
    "lat = kwant.lattice.square()\n",
    "sites = [(x,y) for x in range(2) for y in range(2)]\n",
    "\n",
    "x_list = np.linspace(x_max/100, x_max, 30)\n",
    "\n",
    "plot_syst(lat, sites)\n",
    "hub_energies, hei_energies = hubbard_heisenberg_spectra(lat, sites, x_list)\n",
    "plot_spectra(hub_energies, hei_energies, x_list)"
   ]
  },
  {
   "cell_type": "markdown",
   "metadata": {
    "heading_collapsed": true,
    "hidden": true
   },
   "source": [
    "### Triangle"
   ]
  },
  {
   "cell_type": "code",
   "execution_count": 17,
   "metadata": {
    "ExecuteTime": {
     "end_time": "2020-12-14T15:55:40.535627Z",
     "start_time": "2020-12-14T15:55:38.523010Z"
    },
    "hidden": true
   },
   "outputs": [
    {
     "data": {
      "image/png": "[encoded data removed]",
      "text/plain": [
       "<Figure size 432x288 with 1 Axes>"
      ]
     },
     "metadata": {
      "needs_background": "light"
     },
     "output_type": "display_data"
    },
    {
     "data": {
      "application/vnd.jupyter.widget-view+json": {
       "model_id": "1c992a08a3e44752a80ad21b290ad233",
       "version_major": 2,
       "version_minor": 0
      },
      "text/plain": [
       "HBox(children=(FloatProgress(value=0.0, max=30.0), HTML(value='')))"
      ]
     },
     "metadata": {},
     "output_type": "display_data"
    },
    {
     "name": "stdout",
     "output_type": "stream",
     "text": [
      "\n"
     ]
    },
    {
     "data": {
      "image/png": "[encoded data removed]",
      "text/plain": [
       "<Figure size 432x288 with 1 Axes>"
      ]
     },
     "metadata": {
      "needs_background": "light"
     },
     "output_type": "display_data"
    }
   ],
   "source": [
    "x_max = 0.2\n",
    "\n",
    "lat = kwant.lattice.triangular()\n",
    "sites = [(0,0), (0,1), (1,0)]\n",
    "\n",
    "x_list = np.linspace(x_max/100, x_max, 30)\n",
    "\n",
    "plot_syst(lat, sites)\n",
    "hub_energies, hei_energies = hubbard_heisenberg_spectra(lat, sites, x_list)\n",
    "plot_spectra(hub_energies, hei_energies, x_list)"
   ]
  },
  {
   "cell_type": "markdown",
   "metadata": {},
   "source": [
    "## Generalisation?"
   ]
  },
  {
   "cell_type": "markdown",
   "metadata": {},
   "source": [
    "Can we replace the hopping part of the Hubbard hamiltonian by a general tight binding model:\n",
    "$$H = -\\sum_{i,j}\n",
    "\\begin{bmatrix}\n",
    "c_{i, \\uparrow}\\\\\n",
    "c_{i, \\downarrow}\n",
    "\\end{bmatrix}^\\dagger\n",
    "\\begin{bmatrix}\n",
    "t_{i,j, \\uparrow, \\uparrow}  &\n",
    "t_{i,j, \\downarrow, \\uparrow}\\\\\n",
    "t_{i,j, \\uparrow, \\downarrow} & \n",
    "t_{i,j, \\downarrow, \\downarrow}\n",
    "\\end{bmatrix}\n",
    "\\begin{bmatrix}\n",
    "c_{j, \\uparrow}\\\\\n",
    "c_{j, \\downarrow}\n",
    "\\end{bmatrix}\n",
    "+ U \\sum_i n_{i, \\uparrow}n_{i,_\\downarrow}$$\n",
    "and repeat the same procedure to get more general spin lattice models:\n",
    "$$H = \\sum_{i}\\vec S_i J_{i,j}\\vec S_j,$$\n",
    "where $J_{i,j}$ is a $3\\times3$ matrix?"
   ]
  },
  {
   "cell_type": "markdown",
   "metadata": {},
   "source": [
    "$$H_1 = -\\sum_{i,j}\\sum_{\\sigma, \\sigma'}\n",
    "t_{i,j,\\sigma,\\sigma'}c_{i,\\sigma}^\\dagger c_{j, \\sigma'}$$\n",
    "$$H_1^2 = \n",
    "\\sum_{i,j,k,l}\\sum_{\\sigma, \\sigma', \\rho, \\rho'}\n",
    "t_{i,j, \\sigma, \\sigma'}t_{k,l, \\rho, \\rho'}\n",
    "c_{i, \\sigma}^\\dagger\n",
    "c_{j, \\sigma'}\n",
    "c_{k, \\rho}^\\dagger\n",
    "c_{l, \\rho'}\n",
    "$$\n",
    "$H_1$ is hermitian $\\leftrightarrow t_{i,j,\\sigma,\\sigma'} = t_{j,i,\\sigma',\\sigma}^*$\n",
    "\n",
    "(?) we can make the same arguments as before to get\n",
    "$$H_{eff} =\n",
    "\\frac{-1}{U}\\Pi_0 H_1^2 \\Pi_0\n",
    "=\\\\=\n",
    "\\frac{-1}{U}\n",
    "\\Pi_0\n",
    "\\sum_{i,j}\\sum_{\\sigma, \\sigma', \\rho, \\rho'}\n",
    "t_{i,j, \\sigma, \\sigma'}\n",
    "t_{i,j, \\rho', \\rho}^*\n",
    "c_{i, \\sigma}^\\dagger\n",
    "c_{i, \\rho'}\n",
    "c_{j, \\sigma'}\n",
    "c_{j, \\rho}^\\dagger\n",
    "\\Pi_0$$"
   ]
  },
  {
   "cell_type": "markdown",
   "metadata": {},
   "source": [
    "### Test - two-site model"
   ]
  },
  {
   "cell_type": "markdown",
   "metadata": {},
   "source": [
    "Before doing the general calculation let's test for a simple model:\n",
    "two site hamiltonian with \"hopping\" between opposite spins and onsite interaction:\n",
    "$$H = -t\\left(\n",
    "c_{A\\uparrow}^\\dagger c_{B\\downarrow} +\n",
    "c_{A\\downarrow}^\\dagger c_{B\\uparrow} +\n",
    "c_{B\\uparrow}^\\dagger c_{A\\downarrow} +\n",
    "c_{B\\downarrow}^\\dagger c_{A\\uparrow}\\right) +\n",
    "U \\left(\n",
    "n_{A\\uparrow} n_{A\\downarrow} +\n",
    "n_{B\\uparrow} n_{B\\downarrow}\\right).$$\n",
    "Putting\n",
    "$$t_{i,j,\\sigma,\\sigma'} = t(1-\\delta_{i,j})(1-\\delta_{\\sigma, \\sigma'})$$\n",
    "into eq. (42) we get\n",
    "$$H_{eff} =\n",
    "\\frac{-t^2}{U}\\Pi_0\n",
    "\\sum_{i\\neq j}\\sum_{\\sigma,\\rho}\n",
    "c_{i, \\sigma}^\\dagger\n",
    "c_{i, -\\rho}\n",
    "c_{j, -\\sigma}\n",
    "c_{j, \\rho}^\\dagger\n",
    "\\Pi_0\n",
    "=\\\\=\n",
    "\\frac{-t^2}{U}\\Pi_0\n",
    "\\sum_{i\\neq j}\\sum_{\\sigma}\n",
    "\\left(\n",
    "c_{i, \\sigma}^\\dagger\n",
    "c_{i, -\\sigma}\n",
    "c_{j, -\\sigma}\n",
    "c_{j, \\sigma}^\\dagger\n",
    "+\n",
    "c_{i, \\sigma}^\\dagger\n",
    "c_{i, \\sigma}\n",
    "c_{j, -\\sigma}\n",
    "c_{j, -\\sigma}^\\dagger\n",
    "\\right)\n",
    "\\Pi_0\n",
    "=\\\\=\n",
    "\\frac{-t^2}{U}\\Pi_0\n",
    "\\sum_{i\\neq j}\\sum_{\\sigma}\n",
    "\\left(\n",
    "-c_{i, \\sigma}^\\dagger\n",
    "c_{i, -\\sigma}\n",
    "c_{j, \\sigma}^\\dagger\n",
    "c_{j, -\\sigma}\n",
    "+\n",
    "n_{i, \\sigma}\n",
    "(1-n_{j, -\\sigma})\n",
    "\\right)\n",
    "\\Pi_0\n",
    "=\\\\=\n",
    "\\frac{t^2}{U}\\Pi_0\n",
    "\\sum_{i\\neq j}\\sum_{\\sigma}\n",
    "\\left(\n",
    "c_{i, \\sigma}^\\dagger\n",
    "c_{i, -\\sigma}\n",
    "c_{j, \\sigma}^\\dagger\n",
    "c_{j, -\\sigma}\n",
    "+\n",
    "n_{i, \\sigma}\n",
    "n_{j, -\\sigma}\n",
    "-\\frac{1}{2}\n",
    "\\right)\n",
    "\\Pi_0\n",
    "=\\\\=\n",
    "\\frac{2t^2}{U}\\Pi_0\n",
    "\\sum_{\\sigma}\n",
    "\\left(\n",
    "c_{A, \\sigma}^\\dagger\n",
    "c_{A, -\\sigma}\n",
    "c_{B, \\sigma}^\\dagger\n",
    "c_{B, -\\sigma}\n",
    "+\n",
    "n_{A, \\sigma}\n",
    "n_{B, -\\sigma}\n",
    "-\\frac{1}{2}\n",
    "\\right)\n",
    "\\Pi_0$$\n",
    "where I again used the usual commutation relations and the fact that $\\sum_\\sigma n_{i,\\sigma} = 1$ inside $\\mathcal H_0$."
   ]
  },
  {
   "cell_type": "markdown",
   "metadata": {},
   "source": [
    "Performing explicitly the sum over $\\sigma$ and rewriting in terms of spin operators yields\n",
    "$$\n",
    "H_{eff}\n",
    "=\\\\=\n",
    "\\frac{2t^2}{U}\\Pi_0\n",
    "\\left(\n",
    "S_A^+ S_B^+\n",
    "+\n",
    "S_A^- S_B^-\n",
    "+\n",
    "\\frac{1}{4}(1+S_A^z)(1-S_B^z)\n",
    "+\n",
    "\\frac{1}{4}(1-S_A^z)(1+S_B^z)\n",
    "-1\n",
    "\\right)\\Pi_0\n",
    "=\\\\=\n",
    "\\frac{2t^2}{U}\\Pi_0\n",
    "\\left(\n",
    "\\frac{1}{4}(S_A^x + iS_A^y)(S_B^x +i S_B^y)\n",
    "+\n",
    "\\frac{1}{4}(S_A^x - iS_A^y)(S_B^x - i S_B^y)\n",
    "+\\frac{1}{2}\n",
    "-\n",
    "\\frac{1}{2}S_A^z S_B^z\n",
    "-1\n",
    "\\right)\\Pi_0\n",
    "=\\\\=\n",
    "\\frac{t^2}{U}\\Pi_0\n",
    "\\left(\n",
    "S_A^x S_B^x \n",
    "- S_A^y S_B^y\n",
    "- S_A^z S_B^z\n",
    "-1\n",
    "\\right)\\Pi_0$$"
   ]
  },
  {
   "cell_type": "markdown",
   "metadata": {},
   "source": [
    "We get\n",
    "$$H_{eff} = \\frac{t^2}{U} \\vec S_A\n",
    "\\begin{bmatrix}\n",
    "1 &&\\\\\n",
    "&-1&\\\\\n",
    "&&-1\n",
    "\\end{bmatrix}\n",
    "\\vec S_B - \\frac{t^2}{U}\n",
    "=\\\\=\n",
    "\\frac{t^2}{4U}\\left( X_A X_B - Y_A Y_B - Z_A Z_B\\right)\n",
    "-\\frac{t^2}{U}$$"
   ]
  },
  {
   "cell_type": "code",
   "execution_count": 20,
   "metadata": {
    "ExecuteTime": {
     "end_time": "2021-01-09T18:20:21.938333Z",
     "start_time": "2021-01-09T18:20:21.928398Z"
    }
   },
   "outputs": [],
   "source": [
    "def fermion_ham_2s(t, U):\n",
    "    lat = kwant.lattice.chain()\n",
    "    sites = [(n,) for n in range(2)]\n",
    "    \n",
    "    syst = build_syst(lat, sites, onsite = 0*sigma_0, hopping = -t*sigma_x)\n",
    "\n",
    "    hub_ham = system_to_FermionOperator(syst)\n",
    "    for i in range(len(sites)):\n",
    "            hub_ham += openfermion.FermionOperator(f'{2*i}^ {2*i} {2*i+1}^ {2*i+1}', U)\n",
    "    return(hub_ham)"
   ]
  },
  {
   "cell_type": "code",
   "execution_count": 33,
   "metadata": {
    "ExecuteTime": {
     "end_time": "2021-01-09T18:27:08.561180Z",
     "start_time": "2021-01-09T18:27:08.551552Z"
    }
   },
   "outputs": [],
   "source": [
    "def qubit_ham_2s(J):\n",
    "    \n",
    "    lat = kwant.lattice.chain()\n",
    "    sites = [(n,) for n in range(2)]\n",
    "    \n",
    "    syst = build_syst(lat, sites, onsite = 0*sigma_0,\n",
    "                      hopping = J/4*(np.kron(sigma_x, sigma_x)-np.kron(sigma_y, sigma_y)-np.kron(sigma_z, sigma_z)))\n",
    "\n",
    "    hei_ham = system_to_QubitOperator(syst)\n",
    "\n",
    "    return hei_ham"
   ]
  },
  {
   "cell_type": "code",
   "execution_count": 53,
   "metadata": {
    "ExecuteTime": {
     "end_time": "2021-01-09T18:32:52.908021Z",
     "start_time": "2021-01-09T18:32:51.419410Z"
    }
   },
   "outputs": [
    {
     "data": {
      "application/vnd.jupyter.widget-view+json": {
       "model_id": "e9f3910faaf342bc88db8147b328a91f",
       "version_major": 2,
       "version_minor": 0
      },
      "text/plain": [
       "HBox(children=(FloatProgress(value=0.0, max=30.0), HTML(value='')))"
      ]
     },
     "metadata": {},
     "output_type": "display_data"
    },
    {
     "name": "stdout",
     "output_type": "stream",
     "text": [
      "\n"
     ]
    }
   ],
   "source": [
    "x_list = np.linspace(0.001, 0.2, 30)\n",
    "    \n",
    "hub_energies = []\n",
    "hei_energies = []\n",
    "for x in tqdm(x_list):\n",
    "    hub_energies.append(\n",
    "        openfermion.eigenspectrum(\n",
    "            fermion_ham_2s(U = 1, t = x)\n",
    "        ))\n",
    "    hei_energies.append(\n",
    "        openfermion.eigenspectrum(\n",
    "            qubit_ham_2s(J = 4*x**2)\n",
    "        ) - x**2)"
   ]
  },
  {
   "cell_type": "code",
   "execution_count": 55,
   "metadata": {
    "ExecuteTime": {
     "end_time": "2021-01-09T18:32:54.279807Z",
     "start_time": "2021-01-09T18:32:53.845979Z"
    }
   },
   "outputs": [
    {
     "data": {
      "image/png": "[encoded data removed]",
      "text/plain": [
       "<Figure size 432x288 with 1 Axes>"
      ]
     },
     "metadata": {
      "needs_background": "light"
     },
     "output_type": "display_data"
    }
   ],
   "source": [
    "plot_spectra(hub_energies, hei_energies, x_list)"
   ]
  },
  {
   "cell_type": "markdown",
   "metadata": {},
   "source": [
    "### Kitaev honeycomb"
   ]
  },
  {
   "cell_type": "markdown",
   "metadata": {},
   "source": [
    "simple guess doesn't work"
   ]
  },
  {
   "cell_type": "code",
   "execution_count": 3,
   "metadata": {
    "ExecuteTime": {
     "end_time": "2021-01-08T17:16:21.349024Z",
     "start_time": "2021-01-08T17:16:21.342665Z"
    }
   },
   "outputs": [],
   "source": [
    "def kit_fermion_ham(t, U):\n",
    "    lat = kwant.lattice.honeycomb()\n",
    "    syst = kwant.Builder()\n",
    "    sites = [lat.sublattices[0](0,0),\n",
    "             lat.sublattices[0](0,1),\n",
    "             lat.sublattices[0](1,0),\n",
    "             lat.sublattices[1](0,0),\n",
    "             lat.sublattices[1](1,0),\n",
    "             lat.sublattices[1](1,-1)\n",
    "            ]\n",
    "    syst[sites] = 0*sigma_0\n",
    "    for hopping, pauli_matrix in zip(lat.neighbors(), [sigma_x, sigma_y, sigma_z]):\n",
    "        syst[hopping] = -t * pauli_matrix\n",
    "\n",
    "    syst = syst.finalized()\n",
    "\n",
    "    hub_ham = system_to_FermionOperator(syst)\n",
    "    for i in range(len(sites)):\n",
    "            hub_ham += openfermion.FermionOperator(f'{2*i}^ {2*i} {2*i+1}^ {2*i+1}', U)\n",
    "    return(hub_ham)"
   ]
  },
  {
   "cell_type": "code",
   "execution_count": 4,
   "metadata": {
    "ExecuteTime": {
     "end_time": "2021-01-08T17:16:22.083675Z",
     "start_time": "2021-01-08T17:16:22.076673Z"
    }
   },
   "outputs": [],
   "source": [
    "def kit_qubit_ham(J):\n",
    "    lat = kwant.lattice.honeycomb()\n",
    "    syst = kwant.Builder()\n",
    "    sites = [lat.sublattices[0](0,0),\n",
    "             lat.sublattices[0](0,1),\n",
    "             lat.sublattices[0](1,0),\n",
    "             lat.sublattices[1](0,0),\n",
    "             lat.sublattices[1](1,0),\n",
    "             lat.sublattices[1](1,-1)\n",
    "            ]\n",
    "\n",
    "    syst = kwant.Builder()\n",
    "    syst[sites] = 0*sigma_0\n",
    "    for hopping, pauli_matrix in zip(lat.neighbors(), [sigma_x, sigma_y, sigma_z]):\n",
    "        syst[hopping] = -J * np.kron(pauli_matrix, pauli_matrix)\n",
    "\n",
    "    syst = syst.finalized()\n",
    "    hei_ham = system_to_QubitOperator(syst)\n",
    "\n",
    "    return hei_ham"
   ]
  },
  {
   "cell_type": "code",
   "execution_count": 5,
   "metadata": {
    "ExecuteTime": {
     "end_time": "2021-01-08T17:17:12.735018Z",
     "start_time": "2021-01-08T17:16:22.637064Z"
    }
   },
   "outputs": [
    {
     "data": {
      "application/vnd.jupyter.widget-view+json": {
       "model_id": "70cd452062de478f87cd04f7016c9bda",
       "version_major": 2,
       "version_minor": 0
      },
      "text/plain": [
       "HBox(children=(FloatProgress(value=0.0, max=10.0), HTML(value='')))"
      ]
     },
     "metadata": {},
     "output_type": "display_data"
    },
    {
     "name": "stdout",
     "output_type": "stream",
     "text": [
      "\n"
     ]
    }
   ],
   "source": [
    "x_list = np.linspace(0.001, 1, 10)\n",
    "\n",
    "n_pairs = 6\n",
    "    \n",
    "hub_energies = []\n",
    "hei_energies = []\n",
    "for x in tqdm(x_list):\n",
    "    hub_energies.append(\n",
    "        openfermion.eigenspectrum(\n",
    "            kit_fermion_ham(U = 1, t = x)\n",
    "        ))\n",
    "    hei_energies.append(\n",
    "        openfermion.eigenspectrum(\n",
    "            kit_qubit_ham(J = 4*x**2)\n",
    "        ) - x**2*n_pairs)"
   ]
  },
  {
   "cell_type": "code",
   "execution_count": 6,
   "metadata": {
    "ExecuteTime": {
     "end_time": "2021-01-08T17:17:16.728373Z",
     "start_time": "2021-01-08T17:17:12.737014Z"
    }
   },
   "outputs": [
    {
     "data": {
      "text/plain": [
       "(-22.0, 2.2)"
      ]
     },
     "execution_count": 6,
     "metadata": {},
     "output_type": "execute_result"
    },
    {
     "data": {
      "image/png": "[encoded data removed]",
      "text/plain": [
       "<Figure size 432x288 with 1 Axes>"
      ]
     },
     "metadata": {
      "needs_background": "light"
     },
     "output_type": "display_data"
    }
   ],
   "source": [
    "plt.plot(x_list, hub_energies, c = 'black', marker = 'v', markersize = 1, linewidth = 0.1)\n",
    "plt.ylim(np.min(hei_energies), -np.min(hei_energies)/10)"
   ]
  },
  {
   "cell_type": "code",
   "execution_count": 7,
   "metadata": {
    "ExecuteTime": {
     "end_time": "2021-01-08T17:17:16.903869Z",
     "start_time": "2021-01-08T17:17:16.730334Z"
    }
   },
   "outputs": [
    {
     "data": {
      "text/plain": [
       "(-22.0, 2.2)"
      ]
     },
     "execution_count": 7,
     "metadata": {},
     "output_type": "execute_result"
    },
    {
     "data": {
      "image/png": "[encoded data removed]",
      "text/plain": [
       "<Figure size 432x288 with 1 Axes>"
      ]
     },
     "metadata": {
      "needs_background": "light"
     },
     "output_type": "display_data"
    }
   ],
   "source": [
    "plt.plot(x_list, hei_energies, c = 'black', marker = 'v', markersize = 1, linewidth = 0.1)\n",
    "plt.ylim(np.min(hei_energies), -np.min(hei_energies)/10)"
   ]
  },
  {
   "cell_type": "code",
   "execution_count": 8,
   "metadata": {
    "ExecuteTime": {
     "end_time": "2021-01-08T17:17:17.209050Z",
     "start_time": "2021-01-08T17:17:16.905887Z"
    }
   },
   "outputs": [
    {
     "ename": "NameError",
     "evalue": "name 'plot_spectra' is not defined",
     "output_type": "error",
     "traceback": [
      "\u001b[1;31m---------------------------------------------------------------------------\u001b[0m",
      "\u001b[1;31mNameError\u001b[0m                                 Traceback (most recent call last)",
      "\u001b[1;32m<ipython-input-8-4b5bb10b041d>\u001b[0m in \u001b[0;36m<module>\u001b[1;34m\u001b[0m\n\u001b[1;32m----> 1\u001b[1;33m \u001b[0mplot_spectra\u001b[0m\u001b[1;33m(\u001b[0m\u001b[0mhub_energies\u001b[0m\u001b[1;33m,\u001b[0m \u001b[0mhei_energies\u001b[0m\u001b[1;33m,\u001b[0m \u001b[0mx_list\u001b[0m\u001b[1;33m)\u001b[0m\u001b[1;33m\u001b[0m\u001b[1;33m\u001b[0m\u001b[0m\n\u001b[0m",
      "\u001b[1;31mNameError\u001b[0m: name 'plot_spectra' is not defined"
     ]
    }
   ],
   "source": [
    "plot_spectra(hub_energies, hei_energies, x_list)"
   ]
  },
  {
   "cell_type": "code",
   "execution_count": null,
   "metadata": {},
   "outputs": [],
   "source": []
  }
 ],
 "metadata": {
  "author": "mes3",
  "hide_input": false,
  "kernelspec": {
   "display_name": "Python 3",
   "language": "python",
   "name": "python3"
  },
  "language_info": {
   "codemirror_mode": {
    "name": "ipython",
    "version": 3
   },
   "file_extension": ".py",
   "mimetype": "text/x-python",
   "name": "python",
   "nbconvert_exporter": "python",
   "pygments_lexer": "ipython3",
   "version": "3.8.3"
  },
  "latex_envs": {
   "LaTeX_envs_menu_present": true,
   "autoclose": false,
   "autocomplete": true,
   "bibliofile": "biblio.bib",
   "cite_by": "apalike",
   "current_citInitial": 1,
   "eqLabelWithNumbers": true,
   "eqNumInitial": 1,
   "hotkeys": {
    "equation": "Ctrl-E",
    "itemize": "Ctrl-I"
   },
   "labels_anchors": false,
   "latex_user_defs": false,
   "report_style_numbering": false,
   "user_envs_cfg": false
  },
  "toc": {
   "base_numbering": 1,
   "nav_menu": {},
   "number_sections": true,
   "sideBar": true,
   "skip_h1_title": true,
   "title_cell": "Table of Contents",
   "title_sidebar": "Contents",
   "toc_cell": false,
   "toc_position": {},
   "toc_section_display": true,
   "toc_window_display": false
  }
 },
 "nbformat": 4,
 "nbformat_minor": 4
}
